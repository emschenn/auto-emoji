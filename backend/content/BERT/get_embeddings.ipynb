{
 "cells": [
  {
   "cell_type": "code",
   "execution_count": 1,
   "metadata": {},
   "outputs": [
    {
     "name": "stderr",
     "output_type": "stream",
     "text": [
      "Some weights of the model checkpoint at sentence-transformers/bert-base-nli-mean-tokens were not used when initializing BertModel: ['classifier.bias', 'classifier.weight']\n",
      "- This IS expected if you are initializing BertModel from the checkpoint of a model trained on another task or with another architecture (e.g. initializing a BertForSequenceClassification model from a BertForPreTraining model).\n",
      "- This IS NOT expected if you are initializing BertModel from the checkpoint of a model that you expect to be exactly identical (initializing a BertForSequenceClassification model from a BertForSequenceClassification model).\n"
     ]
    }
   ],
   "source": [
    "from transformers import AutoTokenizer, AutoModel\n",
    "import numpy as np \n",
    "import torch\n",
    "import json\n",
    "\n",
    "# Mean Pooling - Take attention mask into account for correct averaging\n",
    "def mean_pooling(model_output, attention_mask):\n",
    "    # First element of model_output contains all token embeddings\n",
    "    token_embeddings = model_output[0]\n",
    "    input_mask_expanded = attention_mask.unsqueeze(\n",
    "        -1).expand(token_embeddings.size()).float()\n",
    "    sum_embeddings = torch.sum(token_embeddings * input_mask_expanded, 1)\n",
    "    sum_mask = torch.clamp(input_mask_expanded.sum(1), min=1e-9)\n",
    "    return sum_embeddings / sum_mask\n",
    "\n",
    "# Load AutoModel from huggingface model repository\n",
    "tokenizer = AutoTokenizer.from_pretrained(\n",
    "    \"sentence-transformers/bert-base-nli-mean-tokens\")\n",
    "model = AutoModel.from_pretrained(\n",
    "    \"sentence-transformers/bert-base-nli-mean-tokens\")"
   ]
  },
  {
   "cell_type": "code",
   "execution_count": 10,
   "metadata": {},
   "outputs": [],
   "source": [
    "# Sentences we want sentence embeddings for\n",
    "sentences = ['Travel abroad']\n",
    "\n",
    "# Tokenize sentences\n",
    "encoded_input = tokenizer(sentences, padding=True,\n",
    "                          truncation=True, max_length=128, return_tensors='pt')\n",
    "\n",
    "# Compute token embeddings\n",
    "with torch.no_grad():\n",
    "    model_output = model(**encoded_input)\n",
    "\n",
    "# Perform pooling. In this case, mean pooling\n",
    "sentence_embeddings = mean_pooling(\n",
    "    model_output, encoded_input['attention_mask'])"
   ]
  },
  {
   "cell_type": "code",
   "execution_count": 74,
   "metadata": {},
   "outputs": [],
   "source": [
    "import pandas as pd \n",
    "emoji_df = pd.read_csv('emoji_df.csv')\n",
    "emoji_vector = {}\n",
    "for i, row in emoji_df.iterrows():\n",
    "    emoji_description = row[1]\n",
    "    emoji = row[0]\n",
    "    # ========== 轉成 vector\n",
    "    dog = ['heart']\n",
    "    # Tokenize sentences\n",
    "    encoded_emoji_desc = tokenizer(emoji_description, padding=True,\n",
    "                              truncation=True, max_length=128, return_tensors='pt')\n",
    "    with torch.no_grad():\n",
    "        model_output = model(**encoded_emoji_desc)\n",
    "    emoji_embeddings = mean_pooling(\n",
    "        model_output, encoded_emoji_desc['attention_mask'])\n",
    "    # ==================\n",
    "    emoji_vector[emoji] = emoji_embeddings.numpy().reshape(-1)\n",
    "\n",
    "class NumpyEncoder(json.JSONEncoder):\n",
    "    \"\"\" Special json encoder for numpy types \"\"\"\n",
    "    def default(self, obj):\n",
    "        if isinstance(obj, (np.int_, np.intc, np.intp, np.int8,\n",
    "                            np.int16, np.int32, np.int64, np.uint8,\n",
    "                            np.uint16, np.uint32, np.uint64)):\n",
    "            return int(obj)\n",
    "        elif isinstance(obj, (np.float_, np.float16, np.float32,\n",
    "                              np.float64)):\n",
    "            return float(obj)\n",
    "        elif isinstance(obj, (np.ndarray,)):\n",
    "            return obj.tolist()\n",
    "        return json.JSONEncoder.default(self, obj)\n",
    "    \n",
    "with open('emoji_embeddings.json', 'w') as json_file:\n",
    "    json.dump(emoji_vector, json_file, cls=NumpyEncoder)"
   ]
  },
  {
   "cell_type": "code",
   "execution_count": 11,
   "metadata": {},
   "outputs": [
    {
     "name": "stdout",
     "output_type": "stream",
     "text": [
      "['🛃', '🎫', '🗺️', '🗺', '💞']\n"
     ]
    }
   ],
   "source": [
    "import json\n",
    "\n",
    "with open('emoji_embeddings.json') as f:\n",
    "    emoji_embeddings = json.load(f)\n",
    "    \n",
    "scores = []\n",
    "\n",
    "for idx, emoji in emoji_embeddings.items():\n",
    "    score = np.sum(np.abs(sentence_embeddings.numpy().reshape(-1) - emoji))\n",
    "    scores.append(score)\n",
    "    \n",
    "scores = np.array(scores)\n",
    "topK_idx = np.argsort(scores)[:5]\n",
    "recommend_emojis = []\n",
    "emoji_keys = list(emoji_embeddings.keys())\n",
    "\n",
    "for x in topK_idx:\n",
    "    recommend_emojis.append(emoji_keys[x])\n",
    "    \n",
    "print(recommend_emojis)"
   ]
  }
 ],
 "metadata": {
  "kernelspec": {
   "display_name": "Python 3",
   "language": "python",
   "name": "python3"
  },
  "language_info": {
   "codemirror_mode": {
    "name": "ipython",
    "version": 3
   },
   "file_extension": ".py",
   "mimetype": "text/x-python",
   "name": "python",
   "nbconvert_exporter": "python",
   "pygments_lexer": "ipython3",
   "version": "3.8.2"
  }
 },
 "nbformat": 4,
 "nbformat_minor": 4
}
